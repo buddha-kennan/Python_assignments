{
 "cells": [
  {
   "cell_type": "raw",
   "id": "4d707308",
   "metadata": {},
   "source": [
    "Q.1: Write a Python program to find those numbers which are divisible by 7 and multiple of 5,\n",
    "between 1500 and 2700 (both included)."
   ]
  },
  {
   "cell_type": "code",
   "execution_count": null,
   "id": "d0cd5f4f",
   "metadata": {},
   "outputs": [],
   "source": [
    "for i in range (1500, 2700):\n",
    "    if i%5 ==0 and i%7 ==0 :\n",
    "        print(i)"
   ]
  },
  {
   "cell_type": "raw",
   "id": "243abc98",
   "metadata": {},
   "source": [
    "Q.2: Python program to add two numbers. "
   ]
  },
  {
   "cell_type": "code",
   "execution_count": null,
   "id": "cb189d9f",
   "metadata": {},
   "outputs": [],
   "source": [
    "# Python program to add two numbers. \n",
    "num1 = int(input('Enter the first number: '))\n",
    "num2 = int(input('Enter the 2nd number: '))\n",
    "sum = num1 + num2\n",
    "print('The sum of two number is:',sum)"
   ]
  },
  {
   "cell_type": "raw",
   "id": "9b498289",
   "metadata": {},
   "source": [
    "Q.3: Maximum of two numbers in Python"
   ]
  },
  {
   "cell_type": "code",
   "execution_count": null,
   "id": "90b2da11",
   "metadata": {},
   "outputs": [],
   "source": [
    "# Maximum of two numbers in Python\n",
    "num1 = (input('Enter the first number: '))\n",
    "num2 = (input('Enter the 2nd number: '))\n",
    "if num1>num2:\n",
    "    print(num1+num2)\n",
    "else:\n",
    "    print(num2+num1)"
   ]
  },
  {
   "cell_type": "raw",
   "id": "00a21fb9",
   "metadata": {},
   "source": [
    "Q.4: Python Program for factorial of a number"
   ]
  },
  {
   "cell_type": "code",
   "execution_count": null,
   "id": "c68bd1de",
   "metadata": {},
   "outputs": [],
   "source": [
    "# Python Program for factorial of a number\n",
    "n = int(input('Enter the number: '))\n",
    "fac = 1\n",
    "for i in range (1, n+1):\n",
    "    fac=fac*i\n",
    "print('Factial of the number', n, 'is', fac)"
   ]
  },
  {
   "cell_type": "raw",
   "id": "c7643010",
   "metadata": {},
   "source": [
    "Q.5: Python Program for simple interest"
   ]
  },
  {
   "cell_type": "code",
   "execution_count": null,
   "id": "5cfa0071",
   "metadata": {},
   "outputs": [],
   "source": [
    "# Python Program for simple interest\n",
    "\n",
    "p=int(input(\"Enter principal: \"))\n",
    "r=int(input(\"Enter the rate as per month: \"))\n",
    "t=int(input(\"Enter time in months: \"))\n",
    "si=(p*r*t)/100\n",
    "#A = p(1+(r*t))\n",
    "print('Simple Interest is:',si)\n",
    "\n",
    "# P = Initial Principal Ammount \n",
    "# R = rate of interest \n",
    "# T = Taken time \n",
    "# SI = simple interest \n",
    "# A = Final Ammount "
   ]
  },
  {
   "cell_type": "raw",
   "id": "ac807878",
   "metadata": {},
   "source": [
    "Q.6: Python Program for compound interest"
   ]
  },
  {
   "cell_type": "code",
   "execution_count": null,
   "id": "7dd57d54",
   "metadata": {},
   "outputs": [],
   "source": [
    "# Python Program for compound interest\n",
    "P=int(input(\"Enter principal: \"))\n",
    "r=int(input(\"Enter the rate as per month: \"))\n",
    "t=int(input(\"Enter time in months: \"))\n",
    "A=P*(pow((1+r/100),t)) # pow = power \n",
    "ci=A-P\n",
    "#print(A,ci)\n",
    "print('Compound Interest is:',(f\"{ci:.3f}\")) \n",
    "# P = Initial Principal Ammount \n",
    "# R = rate of interest\n",
    "# T = Taken time \n",
    "# CI = Compund interest \n",
    "# A = Final Ammount "
   ]
  },
  {
   "cell_type": "raw",
   "id": "6c73f61d",
   "metadata": {},
   "source": [
    "Q.7: Python Program to check Armstrong Number"
   ]
  },
  {
   "cell_type": "code",
   "execution_count": null,
   "id": "cbc80ddb",
   "metadata": {},
   "outputs": [],
   "source": [
    "# Python Program to check Armstrong Number\n",
    "num = int(input('Enter the number: '))\n",
    "org = num\n",
    "sum = 0\n",
    "while num>0:\n",
    "    sum = sum+(num%10)*(num%10)*(num%10)\n",
    "    num = num//10\n",
    "if sum==org:\n",
    "    print('Yes,', org, 'is a Armstrong number.')\n",
    "else:\n",
    "    print('Sorry,',org,'is not a armstrong number.')"
   ]
  },
  {
   "cell_type": "raw",
   "id": "2270d0d5",
   "metadata": {},
   "source": [
    "Q.8: Python Program for Program to find area of a circle"
   ]
  },
  {
   "cell_type": "code",
   "execution_count": null,
   "id": "a1465ab5",
   "metadata": {},
   "outputs": [],
   "source": [
    "# Python Program to find area of a circle\n",
    "r = float(input('Please, enter the radius of circle: '))\n",
    "u = input('Please, enter the unit of radius: ')\n",
    "pi = 22/7\n",
    "d = 2*r\n",
    "A = pi*r*r\n",
    "c = 2*pi*r\n",
    "print('The Diameter of a Cicle:',d,u)\n",
    "print('The Area of a Circle is:',(f\"{A:.3f}\"), u,'square')\n",
    "print('The Circumferences of a Cicle:',(f\"{c:.3f}\"),u)"
   ]
  },
  {
   "cell_type": "raw",
   "id": "aec8a3ad",
   "metadata": {},
   "source": [
    "Q.9: Python program to print all Prime numbers in an Interval"
   ]
  },
  {
   "cell_type": "code",
   "execution_count": null,
   "id": "6210601e",
   "metadata": {},
   "outputs": [],
   "source": [
    "# Python program to print all Prime numbers in an Interval\n",
    "first = int(input('Enter the first number: '))\n",
    "last = int(input('Enter the last number: '))\n",
    "for num in range (first, last+1):\n",
    "    if num>1:\n",
    "        for i in range (2,num):\n",
    "            if num%i==0:\n",
    "                break\n",
    "        else: \n",
    "            print(num) "
   ]
  },
  {
   "cell_type": "raw",
   "id": "f99f4bf2",
   "metadata": {},
   "source": [
    "Q.10: Python program to check whether a number is Prime or not"
   ]
  },
  {
   "cell_type": "code",
   "execution_count": null,
   "id": "099660fe",
   "metadata": {},
   "outputs": [],
   "source": [
    "# Python program to check whether a number is Prime or not\n",
    "num = int(input('Enter the  number: '))\n",
    "if num<2: \n",
    "    print('This Number is not prime.')\n",
    "else: \n",
    "    for i in range(2, num):\n",
    "        if num%i ==0:\n",
    "            print(num,'Number is not a prime.')\n",
    "            break\n",
    "    else: \n",
    "        print(num,'Number is prime.')"
   ]
  },
  {
   "cell_type": "code",
   "execution_count": null,
   "id": "3cb293a0",
   "metadata": {},
   "outputs": [],
   "source": []
  }
 ],
 "metadata": {
  "kernelspec": {
   "display_name": "Python 3",
   "language": "python",
   "name": "python3"
  },
  "language_info": {
   "codemirror_mode": {
    "name": "ipython",
    "version": 3
   },
   "file_extension": ".py",
   "mimetype": "text/x-python",
   "name": "python",
   "nbconvert_exporter": "python",
   "pygments_lexer": "ipython3",
   "version": "3.8.8"
  }
 },
 "nbformat": 4,
 "nbformat_minor": 5
}

{
 "cells": [
  {
   "cell_type": "raw",
   "id": "c1219fc6",
   "metadata": {},
   "source": [
    "Python_assignment_02: Problems and their solution.  \n",
    "1.\tPython Program for n-th Fibonacci number\n",
    "2.\tPython Program for How to check if a given number is Fibonacci number?\n",
    "3.\tPython Program for n\\’th multiple of a number in Fibonacci Series\n",
    "4.\tProgram to print ASCII Value of a character\n",
    "5.\tPython Program for Sum of squares of first n natural numbers\n",
    "6.\tPython Program for cube sum of first n natural numbers\n",
    "7.\tPython Program to find sum of array\n",
    "8.\tPython Program to find largest element in an array\n",
    "9.\tPython Program for array rotation \n",
    "10.\tPython Program for Reversal algorithm for array rotation  \n",
    "11.\tPython Program to Split the array and add the first part to the end "
   ]
  },
  {
   "cell_type": "code",
   "execution_count": null,
   "id": "223e925e",
   "metadata": {},
   "outputs": [],
   "source": [
    "# P_01. Python Program for n-th Fibonacci number. \n",
    "num = int(input('Enter the nth number: '))\n",
    "x = 0\n",
    "y = 1\n",
    "z = 0\n",
    "while z<=num:\n",
    "    print(z)\n",
    "    x = y\n",
    "    y = z\n",
    "    z = x+y"
   ]
  },
  {
   "cell_type": "code",
   "execution_count": null,
   "id": "ff005074",
   "metadata": {},
   "outputs": [],
   "source": [
    "# P_02.\tPython Program for How to check if a given number is Fibonacci number?\n",
    "num = int(input('Enter the number: '))\n",
    "x = 0\n",
    "y = 1\n",
    "z = 0\n",
    "lf = [] # List of fibonacci series\n",
    "while z<=num:\n",
    "    #print(z)\n",
    "    lf.append(z)\n",
    "    x = y\n",
    "    y = z\n",
    "    z = x+y\n",
    "#print(lf)\n",
    "if num in lf:\n",
    "    print('Yes,',num, 'is a Fibonacci Number.')\n",
    "else:\n",
    "    print('No,',num, 'is not a Fibonacci Number.')"
   ]
  },
  {
   "cell_type": "code",
   "execution_count": null,
   "id": "41feef9e",
   "metadata": {},
   "outputs": [],
   "source": [
    "# P_03.\tPython Program for n\\’th multiple of a number in Fibonacci Series"
   ]
  },
  {
   "cell_type": "code",
   "execution_count": null,
   "id": "8b20cdcf",
   "metadata": {},
   "outputs": [],
   "source": [
    "# P_04.\tProgram to print ASCII Value of a character\n",
    "char = (input(\"Enter a character: \"))\n",
    "if len(char)==1:\n",
    "    ascii_val=ord(char) # ord function support string only. \n",
    "    print(f\" The ASCII value of {char} is {ascii_val}\")\n",
    "else:\n",
    "    print('Alert! Please, Enter the single character only.')"
   ]
  },
  {
   "cell_type": "code",
   "execution_count": null,
   "id": "ffbebe35",
   "metadata": {},
   "outputs": [],
   "source": [
    "# P_05.\tPython Program for Sum of squares of first n natural numbers\n",
    "num = int(input('Enter the number: '))\n",
    "sum = 0\n",
    "#avg = 0\n",
    "for i in range(1, num+1):\n",
    "    #print(i)\n",
    "    sum = sum+i**2\n",
    "    avg = sum/num\n",
    "print('Sum of square of n Natural Numbers is:',sum)\n",
    "#print('Average of n Natural Numbers is:',avg)"
   ]
  },
  {
   "cell_type": "code",
   "execution_count": null,
   "id": "9c9fca2b",
   "metadata": {},
   "outputs": [],
   "source": [
    "# P_06: Python Program for sum of cube of first n natural numbers\n",
    "num = int(input('Enter the number: '))\n",
    "sum = 0\n",
    "for i in range(1, num+1):\n",
    "    sum = sum+i**3\n",
    "print('Sum of cube of n Natural Numbers is:',sum)"
   ]
  },
  {
   "cell_type": "code",
   "execution_count": null,
   "id": "33ee6b31",
   "metadata": {},
   "outputs": [],
   "source": [
    "# P_07.01: Python Program to find sum of array. \n",
    "array = [2,3,4,5,6,7,8] # array means a list, that is a collection of python. \n",
    "sum = 0\n",
    "for i in array:\n",
    "    sum = sum+i\n",
    "print(sum)"
   ]
  },
  {
   "cell_type": "code",
   "execution_count": null,
   "id": "52072d9e",
   "metadata": {},
   "outputs": [],
   "source": [
    "# P_07.02: 2nd Method \n",
    "array = [2,3,4,5,6,7,8]\n",
    "print(sum(array))"
   ]
  },
  {
   "cell_type": "code",
   "execution_count": null,
   "id": "702d4c26",
   "metadata": {},
   "outputs": [],
   "source": [
    "# P_08: Python Program to find largest element in an array\n",
    "arr = [1,2,3,4,5,6,17,8,9]\n",
    "print(max(arr))"
   ]
  },
  {
   "cell_type": "code",
   "execution_count": null,
   "id": "6417085b",
   "metadata": {},
   "outputs": [],
   "source": [
    "# P_09: Python Program for array rotation\n",
    "def arr_rot():\n",
    "    # block for dynamic list\n",
    "    a =[] \n",
    "    s = int(input('Enter the size of list:'))\n",
    "    for i in range(s):\n",
    "        value=int(input('Enter the value for list:'))\n",
    "        a.append(value)\n",
    "    print('This is your original list:',a)\n",
    "    # block for rotation\n",
    "    n=int(input(\"Enter how many position you want to shift the list's element:\"))\n",
    "    for move in range(n):\n",
    "        x=a[0]\n",
    "        for i in range(1,s):\n",
    "            a[i-1]=a[i]\n",
    "        a[s-1]=x\n",
    "    print('Modified List:',a)\n",
    "arr_rot()"
   ]
  },
  {
   "cell_type": "code",
   "execution_count": null,
   "id": "e9e25adb",
   "metadata": {},
   "outputs": [],
   "source": [
    "# P_10: Python Program for Reversal algorithm for array rotation\n",
    "# function for reverse the array\n",
    "def reverseArray(arr, start, end):\n",
    "    while (start < end):\n",
    "        temp = arr[start]\n",
    "        arr[start] = arr[end]\n",
    "        arr[end] = temp\n",
    "        start += 1\n",
    "        end -= 1\n",
    "# function for rotate the array\n",
    "def leftRotate(arr, d):\n",
    "    n = len(arr)\n",
    "    reverseArray(arr, 0, d-1)\n",
    "    reverseArray(arr, d, n-1)\n",
    "    reverseArray(arr, 0, n-1)\n",
    "arr = [1, 2, 3, 4, 5, 6, 7]\n",
    "print(\"Original array:\", arr)\n",
    "leftRotate(arr, 2)\n",
    "print(\"Rotated array:\", arr)"
   ]
  },
  {
   "cell_type": "code",
   "execution_count": null,
   "id": "4253a0c3",
   "metadata": {},
   "outputs": [],
   "source": [
    "# P_11: Python Program to Split the array and add the first part to the end\n",
    "arr = [1,2,3,4,5,6,7,8,9]\n",
    "print(arr[0]+arr[-1])"
   ]
  }
 ],
 "metadata": {
  "kernelspec": {
   "display_name": "Python 3 (ipykernel)",
   "language": "python",
   "name": "python3"
  },
  "language_info": {
   "codemirror_mode": {
    "name": "ipython",
    "version": 3
   },
   "file_extension": ".py",
   "mimetype": "text/x-python",
   "name": "python",
   "nbconvert_exporter": "python",
   "pygments_lexer": "ipython3",
   "version": "3.9.7"
  }
 },
 "nbformat": 4,
 "nbformat_minor": 5
}
